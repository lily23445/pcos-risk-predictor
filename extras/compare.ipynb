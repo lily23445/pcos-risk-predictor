{
 "cells": [
  {
   "metadata": {
    "ExecuteTime": {
     "end_time": "2025-08-26T13:37:03.383775Z",
     "start_time": "2025-08-26T13:37:03.372871Z"
    }
   },
   "cell_type": "code",
   "source": [
    "# Convert all columns to numeric if possible\n",
    "for col in data.columns:\n",
    "    data[col] = pd.to_numeric(data[col], errors='coerce')\n",
    "\n",
    "# Fill missing values (from failed conversions) with 0 or mean\n",
    "data = data.fillna(0)\n"
   ],
   "id": "7a48daf11765f8df",
   "outputs": [],
   "execution_count": 33
  },
  {
   "metadata": {
    "ExecuteTime": {
     "end_time": "2025-08-26T13:37:14.211185Z",
     "start_time": "2025-08-26T13:37:11.785523Z"
    }
   },
   "cell_type": "code",
   "source": [
    "import pandas as pd\n",
    "from sklearn.model_selection import train_test_split, cross_val_score\n",
    "from sklearn.metrics import accuracy_score, roc_auc_score\n",
    "from sklearn.ensemble import RandomForestClassifier\n",
    "from sklearn.linear_model import LogisticRegression\n",
    "from sklearn.svm import SVC\n",
    "from sklearn.neighbors import KNeighborsClassifier\n",
    "from sklearn.tree import DecisionTreeClassifier\n",
    "import joblib\n",
    "\n",
    "# 1. Load dataset (replace with your actual dataset file)\n",
    "data=pd.read_excel('data/pcos.xlsx')\n",
    "# Convert all columns to numeric if possible\n",
    "for col in data.columns:\n",
    "    data[col] = pd.to_numeric(data[col], errors='coerce')\n",
    "\n",
    "# Fill missing values (from failed conversions) with 0 or mean\n",
    "data = data.fillna(0)\n",
    "\n",
    "# 2. Features & target (replace 'PCOS (Y/N)' with your actual target column)\n",
    "X = data.drop(\"PCOS (Y/N)\", axis=1)\n",
    "y = data[\"PCOS (Y/N)\"]\n",
    "\n",
    "# 3. Train-test split\n",
    "X_train, X_test, y_train, y_test = train_test_split(X, y, test_size=0.2, random_state=42)\n",
    "\n",
    "# 4. Define models to compare\n",
    "models = {\n",
    "    \"RandomForest\": RandomForestClassifier(random_state=42),\n",
    "    \"LogisticRegression\": LogisticRegression(max_iter=1000),\n",
    "    \"SVM\": SVC(probability=True),\n",
    "    \"KNN\": KNeighborsClassifier(),\n",
    "    \"DecisionTree\": DecisionTreeClassifier(random_state=42)\n",
    "}\n",
    "\n",
    "# 5. Train, evaluate & store results\n",
    "results = []\n",
    "for name, model in models.items():\n",
    "    model.fit(X_train, y_train)\n",
    "    y_pred = model.predict(X_test)\n",
    "    y_proba = model.predict_proba(X_test)[:, 1] if hasattr(model, \"predict_proba\") else None\n",
    "\n",
    "    acc = accuracy_score(y_test, y_pred)\n",
    "    roc = roc_auc_score(y_test, y_proba) if y_proba is not None else \"N/A\"\n",
    "\n",
    "    results.append({\"Model\": name, \"Accuracy\": acc, \"ROC-AUC\": roc})\n",
    "\n",
    "    # Save the best model (you can later check results and decide)\n",
    "    joblib.dump(model, f\"{name}_pcos_model.pkl\")\n",
    "\n",
    "# 6. Show results\n",
    "results_df = pd.DataFrame(results)\n",
    "print(\"\\nModel Comparison Results:\\n\")\n",
    "print(results_df)\n"
   ],
   "id": "ac254ff667774495",
   "outputs": [
    {
     "name": "stderr",
     "output_type": "stream",
     "text": [
      "D:\\Kalash\\pcos-tracker\\.venv\\Lib\\site-packages\\sklearn\\linear_model\\_logistic.py:470: ConvergenceWarning: lbfgs failed to converge after 1000 iteration(s) (status=1):\n",
      "STOP: TOTAL NO. OF ITERATIONS REACHED LIMIT\n",
      "\n",
      "Increase the number of iterations to improve the convergence (max_iter=1000).\n",
      "You might also want to scale the data as shown in:\n",
      "    https://scikit-learn.org/stable/modules/preprocessing.html\n",
      "Please also refer to the documentation for alternative solver options:\n",
      "    https://scikit-learn.org/stable/modules/linear_model.html#logistic-regression\n",
      "  n_iter_i = _check_optimize_result(\n"
     ]
    },
    {
     "name": "stdout",
     "output_type": "stream",
     "text": [
      "\n",
      "Model Comparison Results:\n",
      "\n",
      "                Model  Accuracy   ROC-AUC\n",
      "0        RandomForest  0.871560  0.943385\n",
      "1  LogisticRegression  0.834862  0.840503\n",
      "2                 SVM  0.715596  0.250406\n",
      "3                 KNN  0.724771  0.697037\n",
      "4        DecisionTree  0.816514  0.787946\n"
     ]
    }
   ],
   "execution_count": 36
  },
  {
   "metadata": {},
   "cell_type": "code",
   "outputs": [],
   "execution_count": null,
   "source": "",
   "id": "822695e4bdd7ecd0"
  }
 ],
 "metadata": {
  "kernelspec": {
   "display_name": "Python 3",
   "language": "python",
   "name": "python3"
  },
  "language_info": {
   "codemirror_mode": {
    "name": "ipython",
    "version": 2
   },
   "file_extension": ".py",
   "mimetype": "text/x-python",
   "name": "python",
   "nbconvert_exporter": "python",
   "pygments_lexer": "ipython2",
   "version": "2.7.6"
  }
 },
 "nbformat": 4,
 "nbformat_minor": 5
}
